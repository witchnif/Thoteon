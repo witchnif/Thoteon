{
 "cells": [
  {
   "attachments": {},
   "cell_type": "markdown",
   "metadata": {},
   "source": [
    "# ***MATEMATICAS FUNDAMENTAL***"
   ]
  },
  {
   "attachments": {},
   "cell_type": "markdown",
   "metadata": {},
   "source": [
    "## EXPLICACION DEL CODIGO DE LA IA"
   ]
  },
  {
   "attachments": {},
   "cell_type": "markdown",
   "metadata": {},
   "source": [
    "### La primera parte del codigo lee dos archivos de texto y los trasforma en dos matrices en las cuales cada vector se nombra y se busca el vector con mas coincidencias."
   ]
  },
  {
   "attachments": {},
   "cell_type": "markdown",
   "metadata": {},
   "source": [
    "##### El programa comienza utilizando la teoria de conjuntos para saber el usuario que tema esta hablando. El primer archivo 'list.txt' tiene almacenado una serie de palabras agrupadas en conjuntos tematicos (tabla_1) y el segundo archivo 'answers.txt' tiene almacenada una serie de respuestas agrupadas en conjuntos tematicos (tabla_2) las cuales usa la IA para responder a lo que el usuario escribio."
   ]
  },
  {
   "attachments": {},
   "cell_type": "markdown",
   "metadata": {},
   "source": [
    "        tabla_1: \n",
    "            tema_1 = word_a1, word_a2, word_a3, word_a4, ... , word_an\n",
    "            tema_2 = word_b1, word_b2, word_b3, word_b4, ... , word_bn\n",
    "            tema_3 = word_c1, word_c2, word_c3, word_c4, ... , word_cn\n",
    "            tema_4 = word_d1, word_d2, word_d3, word_d4, ... , word_dn\n",
    "                .  =    .       .           .       .               .\n",
    "                .  =    .       .           .       .               .\n",
    "                .  =    .       .           .       .               .\n",
    "            tema_n = word_n1, word_n2, word_n3, word_n4, ... , word_nn\n",
    "\n",
    "        tabla_2\n",
    "            tema_1 = answer_a1, answer_a2, answer_a3, answer_a4, ... , answer_an\n",
    "            tema_2 = answer_b1, answer_b2, answer_b3, answer_b4, ... , answer_bn\n",
    "            tema_3 = answer_c1, answer_c2, answer_c3, answer_c4, ... , answer_cn\n",
    "            tema_4 = answer_d1, answer_d2, answer_d3, answer_d4, ... , answer_dn\n",
    "                .  =    .           .           .           .               .\n",
    "                .  =    .           .           .           .               .\n",
    "                .  =    .           .           .           .               .\n",
    "            tema_n = answer_n1, answer_n2, answer_n3, answer_n4, ... , answer_nn      "
   ]
  },
  {
   "attachments": {},
   "cell_type": "markdown",
   "metadata": {},
   "source": [
    "#### Cuando el usuario ingresa una frase, esta coge cada palabra y la ubica en su conjunto correspondiente (formula_1), al final determina cual es el conjunto con mas elementos (formula_2)."
   ]
  },
  {
   "attachments": {},
   "cell_type": "markdown",
   "metadata": {},
   "source": [
    "        formula_1:\n",
    "            word_imput ∈ tema_1 = 1     ∨       word_imput ∉ Tema_1 = 0;\n",
    "            word_imput ∈ tema_2 = 1     ∨       word_imput ∉ Tema_2 = 0;\n",
    "            word_imput ∈ tema_3 = 1     ∨       word_imput ∉ Tema_3 = 0;\n",
    "                        .               ∨                   .\n",
    "                        .               ∨                   .\n",
    "                        .               ∨                   .\n",
    "            word_imput ∈ tema_n = 1     ∨       word_imput ∉ Tema_n = 0;\n",
    "\n",
    "        formula_2:\n",
    "            ∑(tema_1)\n",
    "            ∑(tema_2)\n",
    "            ∑(tema_3)\n",
    "                .\n",
    "                .\n",
    "                .\n",
    "            ∑(tema_n)"
   ]
  },
  {
   "attachments": {},
   "cell_type": "markdown",
   "metadata": {},
   "source": [
    "#### Ya sabiendo el conjunto con mas coincidencias, busca el nombre de ese conjunto en el segundo archivo 'answers.txt' y selecciona un elemento aleatoreamente de ese conjunto para imprimirlo en pantalla (formula_3)."
   ]
  },
  {
   "attachments": {},
   "cell_type": "markdown",
   "metadata": {},
   "source": [
    "        formula_3:\n",
    "            (tema_top = tema_1) = 1     V       (tema_top ≠ tema_1) = 0\n",
    "            (tema_top = tema_2) = 1     V       (tema_top ≠ tema_2) = 0\n",
    "            (tema_top = tema_3) = 1     V       (tema_top ≠ tema_3) = 0\n",
    "                        .               V                   .\n",
    "                        .               V                   .\n",
    "                        .               V                   .\n",
    "            (tema_top = tema_n) = 1     V       (tema_top ≠ tema_n) = 0"
   ]
  },
  {
   "attachments": {},
   "cell_type": "markdown",
   "metadata": {},
   "source": [
    "#### Partes del codigo"
   ]
  },
  {
   "cell_type": "code",
   "execution_count": null,
   "metadata": {
    "vscode": {
     "languageId": "plaintext"
    }
   },
   "outputs": [],
   "source": [
    "Transformacion de los archivos de texto en la lista de listas\n",
    "        \n",
    "        List<Tuple<List<string>, List<string>>> pairs = new List<Tuple<List<string>, List<string>>>();\n",
    "        string[] lines_p = File.ReadAllLines(\"answers.txt\");\n",
    "        foreach (string line in lines_p) {\n",
    "            string[] parts = line.Trim().Split(\":\");\n",
    "            List<string> questions = parts[0].Split(\",\").Select(x => x.Trim()).ToList();\n",
    "            List<string> answers = parts[1].Split(\",\").Select(x => x.Trim()).ToList();\n",
    "            pairs.Add(new Tuple<List<string>, List<string>>(questions, answers));\n",
    "        }\n",
    "\n",
    "        List<List<string>> data_list = new List<List<string>>();\n",
    "        string[] lines_L = File.ReadAllLines(\"lists.txt\");\n",
    "        foreach (string line in lines_L) {\n",
    "            string[] key_values = line.Trim().Split(\":\");\n",
    "            string[] key = key_values[0].Trim().Split(\",\").Select(x => x.Trim()).ToArray();\n",
    "            string[] values = key_values[1].Trim().Split(\",\").Select(x => x.Trim()).ToArray();\n",
    "            data_list.Add(new List<string> { string.Join(\",\", key), string.Join(\",\", values) });\n",
    "        }\n",
    "\n",
    "\n",
    "busqueda de coincidencias\n",
    "\n",
    "            for (int i = 0; i < data_list.Count; i++) {\n",
    "                string[] key = data_list[i][0].Split(\",\");\n",
    "                string[] values = data_list[i][1].Split(\",\");\n",
    "                int count = 0;\n",
    "                foreach (string value in values) {\n",
    "                    if (words.Contains(value)) {\n",
    "                        count++;\n",
    "                    }\n",
    "                }\n",
    "                result[i] = count;\n",
    "            }\n",
    "\n",
    "\n",
    "respuesta de la IA\n",
    "            string one = top_one;\n",
    "            Tuple<List<string>, List<string>> matchingPair = pairs.FirstOrDefault(pair => pair.Item1.Contains(one));\n",
    "            if (matchingPair != null) {\n",
    "                Random rand = new Random();\n",
    "                string randomAnswer = matchingPair.Item2[rand.Next(matchingPair.Item2.Count)];\n",
    "                Console.ForegroundColor = ConsoleColor.Yellow;\n",
    "                Console.Write(\"KYO_>> \");\n",
    "                Console.WriteLine(randomAnswer);\n",
    "                Console.ForegroundColor = ConsoleColor.Cyan;\n",
    "            } else {\n",
    "                Console.ForegroundColor = ConsoleColor.Yellow;\n",
    "                Console.WriteLine(\"KYO_>> ¿Qué, ¡Qué!?, no te entendi perdon, oye quieres seguir hablando o vamos a clases\");\n",
    "                Console.ForegroundColor = ConsoleColor.Cyan;\n",
    "            }\n",
    "        \n"
   ]
  }
 ],
 "metadata": {
  "language_info": {
   "name": "python"
  },
  "orig_nbformat": 4
 },
 "nbformat": 4,
 "nbformat_minor": 2
}
