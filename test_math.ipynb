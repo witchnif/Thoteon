{
 "cells": [
  {
   "attachments": {},
   "cell_type": "markdown",
   "metadata": {},
   "source": [
    "# ***MATEMATICAS FUNDAMENTAL***"
   ]
  },
  {
   "attachments": {},
   "cell_type": "markdown",
   "metadata": {},
   "source": [
    "## EXPLICACION DEL CODIGO DEL TEST"
   ]
  },
  {
   "attachments": {},
   "cell_type": "markdown",
   "metadata": {},
   "source": [
    "### La primera parte del codigo se declaran las matrices de cada parte del tets"
   ]
  },
  {
   "attachments": {},
   "cell_type": "markdown",
   "metadata": {},
   "source": [
    "##### Cada matriz contiene los vectores correspondientes a cada tipo de personalidad y almacenan repartidamente todas las respuestas posibles que el usuario pueda elegir (codigo_1). Por ultimo se tiene una matriz vacia con los tipos de personalidad la cual contendra todos los resultados que el usuario eligio."
   ]
  },
  {
   "cell_type": "code",
   "execution_count": null,
   "metadata": {
    "vscode": {
     "languageId": "plaintext"
    }
   },
   "outputs": [],
   "source": [
    "CODIGO_1\n",
    "    Part_A\n",
    "        {\n",
    "            (\"REALISTA\", new List<int>(){3, 11, 18, 21, 24, 27, 35, 44}),\n",
    "            (\"INVESTIGADOR\", new List<int>(){8, 19, 29, 31, 33, 36, 37, 43}),\n",
    "            (\"SOCIAL\", new List<int>(){4, 14, 15, 16, 17, 22}),\n",
    "            (\"CONVENCIONAL\", new List<int>(){5, 6, 7, 9, 10, 26, 28, 42}),\n",
    "            (\"EMPRENDEDOR\", new List<int>(){2, 12, 23, 32, 38, 39, 40, 41}),\n",
    "            (\"ARTÍSTICO\", new List<int>(){1, 13, 20, 25, 30, 34, 45})\n",
    "        };\n",
    "\n",
    "    Part_B\n",
    "        {\n",
    "            (\"REALISTA\", new List<int>(){1, 10, 16}),\n",
    "            (\"INVESTIGADOR\", new List<int>(){9, 13, 14}),\n",
    "            (\"SOCIAL\", new List<int>(){5, 8, 17}),\n",
    "            (\"CONVENCIONAL\", new List<int>(){3, 4, 18}),\n",
    "            (\"EMPRENDEDOR\", new List<int>(){7, 12, 15}),\n",
    "            (\"ARTÍSTICO\", new List<int>(){2, 6, 11}),\n",
    "        };\n",
    "\n",
    "    Part_C\n",
    "        {\n",
    "            (\"REALISTA\", new List<int>(){2, 5, 12}),\n",
    "            (\"INVESTIGADOR\", new List<int>(){4, 9, 10}),\n",
    "            (\"SOCIAL\", new List<int>(){3, 14, 18}),\n",
    "            (\"CONVENCIONAL\", new List<int>(){1, 8, 13}),\n",
    "            (\"EMPRENDEDOR\", new List<int>(){6, 7, 17}),\n",
    "            (\"ARTÍSTICO\", new List<int>(){11, 15, 16}),\n",
    "        };\n",
    "\n",
    "    Part_D\n",
    "        {\n",
    "            (\"REALISTA\", new List<int>(){5, 12, 15, 20, 28}),\n",
    "            (\"INVESTIGADOR\", new List<int>(){1, 9, 17, 24, 27}),\n",
    "            (\"SOCIAL\", new List<int>(){4, 11, 13, 23, 30}),\n",
    "            (\"CONVENCIONAL\", new List<int>(){2, 7, 18, 22, 26}),\n",
    "            (\"EMPRENDEDOR\", new List<int>(){3, 10, 14, 19, 29}),\n",
    "            (\"ARTÍSTICO\", new List<int>(){6, 8, 16, 21, 25})\n",
    "        };\n",
    "\n",
    "    Total\n",
    "        {\n",
    "            (\"REALISTA\", new List<int>(){0}),\n",
    "            (\"INVESTIGADOR\", new List<int>(){0}),\n",
    "            (\"SOCIAL\", new List<int>(){0}),\n",
    "            (\"CONVENCIONAL\", new List<int>(){0}),\n",
    "            (\"EMPRENDEDOR\", new List<int>(){0}),\n",
    "            (\"ARTÍSTICO\", new List<int>(){0})\n",
    "        };"
   ]
  },
  {
   "attachments": {},
   "cell_type": "markdown",
   "metadata": {},
   "source": [
    "#### La parte A del test almacena y suma las caracteristicas que el usuario eligio"
   ]
  },
  {
   "attachments": {},
   "cell_type": "markdown",
   "metadata": {},
   "source": [
    "        formula_1:\n",
    "            ∑((imput ∈ tipo_personalidad_n) = 1)"
   ]
  },
  {
   "attachments": {},
   "cell_type": "markdown",
   "metadata": {},
   "source": [
    "###### Codigo"
   ]
  },
  {
   "cell_type": "code",
   "execution_count": null,
   "metadata": {
    "vscode": {
     "languageId": "plaintext"
    }
   },
   "outputs": [],
   "source": [
    "        while(true) {\n",
    "            respuesta_a = Console.ReadLine();\n",
    "            \n",
    "            if (int.TryParse(respuesta_a, out w)) {\n",
    "                if (w > 45){\n",
    "                    Console.WriteLine(\"KYO_>> no hay mas de 45 opciones\");\n",
    "                }\n",
    "                else{\n",
    "                    if (w == 0){\n",
    "                        Console.WriteLine(\"KYO_>> ¿Cero? ¿en serio? espero que sea una equivocacion\");\n",
    "                    }\n",
    "                    else{\n",
    "                        if (w < 0){\n",
    "                            Console.WriteLine(\"KYO_>> ¡Nooo!, ¿en serio? ¿Porque numeros negativos?\");\n",
    "                        }\n",
    "                        else{\n",
    "                            adjetivos[contadorAdjetivos] = w;\n",
    "                            contadorAdjetivos++;\n",
    "                        }\n",
    "                    }\n",
    "                }\n",
    "            }\n",
    "        }"
   ]
  },
  {
   "attachments": {},
   "cell_type": "markdown",
   "metadata": {},
   "source": [
    "#### Las partes B y C del test, cada respuesta posible puede estar en dos estados (true=1, false=0), sumando la respuesta al conjunto asignado (formula_2)"
   ]
  },
  {
   "attachments": {},
   "cell_type": "markdown",
   "metadata": {},
   "source": [
    "        formula_2:\n",
    "            tipo_personalidad_n = ∑(respuestas_n)"
   ]
  },
  {
   "attachments": {},
   "cell_type": "markdown",
   "metadata": {},
   "source": [
    "###### Codigo "
   ]
  },
  {
   "cell_type": "code",
   "execution_count": null,
   "metadata": {
    "vscode": {
     "languageId": "plaintext"
    }
   },
   "outputs": [],
   "source": [
    "    while (true)\n",
    "    {\n",
    "        string respuestaStr = Console.ReadLine();\n",
    "\n",
    "        if (int.TryParse(respuestaStr, out int respuestaNum))\n",
    "        {\n",
    "            if (respuestaNum > 3)\n",
    "            {\n",
    "                Console.Write(\"KYO_>> no hay mas de 3 opciones, intenta de nuevo: \");\n",
    "            }\n",
    "            else if (respuestaNum == 0)\n",
    "            {\n",
    "                Console.Write(\"KYO_>> ¿Cero? ¿en serio? espero que sea una equivocacion, intenta de nuevo: \");\n",
    "            }\n",
    "            else if (respuestaNum < 0)\n",
    "            {\n",
    "                Console.Write(\"KYO_>> ¡Nooo!, ¿en serio? ¿Porque numeros negativos?, intenta de nuevo: \");\n",
    "            }\n",
    "            else\n",
    "            {\n",
    "                if (respuestaNum == 1)\n",
    "                 {\n",
    "                    respuestaNum = respuestaEsperada;\n",
    "                    return respuestaNum;\n",
    "                }\n",
    "            }\n",
    "        }\n",
    "    }\n",
    "\n"
   ]
  },
  {
   "attachments": {},
   "cell_type": "markdown",
   "metadata": {},
   "source": [
    "#### En la parte D del test cada respuesta posible esta alojada en un tipo de personalidad, todas las respuestas son igual a cero hasta que el usuario selecciona una y le da valor de uno usando la misma formula de las partes B y C (formula_2)"
   ]
  },
  {
   "attachments": {},
   "cell_type": "markdown",
   "metadata": {},
   "source": [
    "        formula_2:\n",
    "            tipo_personalidad_n = ∑(respuestas_n)"
   ]
  },
  {
   "attachments": {},
   "cell_type": "markdown",
   "metadata": {},
   "source": [
    "###### Codigo"
   ]
  },
  {
   "cell_type": "code",
   "execution_count": null,
   "metadata": {
    "vscode": {
     "languageId": "plaintext"
    }
   },
   "outputs": [],
   "source": [
    "    while (true)\n",
    "    {\n",
    "        string respuestaStr = Console.ReadLine();\n",
    "\n",
    "        if (int.TryParse(respuestaStr, out int respuestaNum))\n",
    "            if (respuestaNum > end_num || respuestaNum < first_num)\n",
    "            {\n",
    "                Console.Write(\"KYO_>> !Oye¡ mira los numeros de las respuestas, diste un numero que no aparece: \");\n",
    "            }\n",
    "            else\n",
    "            {\n",
    "                respuestaNum = int.Parse(respuestaStr);\n",
    "                return respuestaNum;\n",
    "            }\n",
    "\n",
    "    }\n"
   ]
  },
  {
   "attachments": {},
   "cell_type": "markdown",
   "metadata": {},
   "source": [
    "#### Por ultimo se suma todas los elementos de cada conjunto (formula_3) para saber que tipo de personalidad tiene mayor puntaje y asi poder recomendar las ocupaciones mas afines para el usuario  "
   ]
  },
  {
   "attachments": {},
   "cell_type": "markdown",
   "metadata": {},
   "source": [
    "        formula_3\n",
    "                ∑(tipo_personalidad_n)"
   ]
  }
 ],
 "metadata": {
  "language_info": {
   "name": "python"
  },
  "orig_nbformat": 4
 },
 "nbformat": 4,
 "nbformat_minor": 2
}
